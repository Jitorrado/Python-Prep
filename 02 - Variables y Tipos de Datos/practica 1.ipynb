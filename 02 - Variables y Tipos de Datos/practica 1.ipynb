## numero entero
a= 19
print(a)